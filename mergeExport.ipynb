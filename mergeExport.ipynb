{
 "cells": [
  {
   "cell_type": "code",
   "execution_count": 1,
   "metadata": {},
   "outputs": [],
   "source": [
    "# Load data from crawler\n",
    "import pandas as pd\n",
    "codes = pd.read_json('codes.json').set_index('code')\n",
    "codes['source'] = 'icdcode.info'"
   ]
  },
  {
   "cell_type": "code",
   "execution_count": 2,
   "metadata": {},
   "outputs": [],
   "source": [
    "# Load and prepare data from deis\n",
    "deis_codes = pd.read_excel('cie10.xls')\n",
    "# Fill COD_3 rows\n",
    "cache = ''\n",
    "def extend_cod3(row):\n",
    "    global cache\n",
    "    if pd.isnull(row['COD_3']):\n",
    "        row['COD_3'] = cache\n",
    "    else:\n",
    "        cache = row['COD_3']\n",
    "    return row\n",
    "# 3d codes\n",
    "deis_codes_3 = deis_codes.drop(columns=['COD_4', 'DESCRIPCION CODIGOS DE CUATRO CARACTERES']).dropna()\n",
    "deis_codes_3 =deis_codes_3.rename(columns={'COD_3': 'code', 'DESRIPCION CATEGORIAS DE TRES CARACTERES': 'description'})\n",
    "deis_codes_3['description'] = deis_codes_3.description.str.capitalize()\n",
    "# 4d codes\n",
    "deis_codes_4 = deis_codes.apply(extend_cod3, axis=1).drop(columns='DESRIPCION CATEGORIAS DE TRES CARACTERES')\n",
    "deis_codes_4 = deis_codes_4.rename(columns={'COD_3': 'parent_code', 'COD_4': 'code', 'DESCRIPCION CODIGOS DE CUATRO CARACTERES': 'description'})\n",
    "deis_codes_4['description'] = deis_codes_4.description.str.capitalize()"
   ]
  },
  {
   "cell_type": "code",
   "execution_count": 7,
   "metadata": {},
   "outputs": [
    {
     "name": "stdout",
     "output_type": "stream",
     "text": [
      "Checking 3d codes:\n",
      "Ignored: missing G07*A2492: Absceso y granuloma intracraneal e intrarraquideo en enfermedades clasificadas en otra parte\n",
      "Ignored: missing G32*A2561: Otros trastornos degenerativos del sistema nervioso en enfermedades clasificados en otra parte\n",
      "Ignored: missing G73*: Trastornos del musculo y de la union neuromuscular en enfermedades clasificadas en otra parte\n",
      "Checking 4d codes:\n"
     ]
    },
    {
     "data": {
      "application/vnd.jupyter.widget-view+json": {
       "model_id": "42d1f444bdb644b2874a9aa24be1d08b",
       "version_major": 2,
       "version_minor": 0
      },
      "text/plain": [
       "HBox(children=(IntProgress(value=0, max=12423), HTML(value='')))"
      ]
     },
     "metadata": {},
     "output_type": "display_data"
    },
    {
     "name": "stdout",
     "output_type": "stream",
     "text": [
      "Ignored: missing parent of G730*: Sindromes miastenicos en enfermedades endocrinas => G73*\n",
      "Ignored: missing parent of G731*: Sindrome de eaton-lambert (c80†) => G73*\n",
      "Ignored: missing parent of G732*: Otros sindromes miastenicos en enfermedad neoplasica (c00-d48†) => G73*\n",
      "Ignored: missing parent of G733*: Sindromes miastenicos en otras enfermedades clasificadas en otra parte => G73*\n",
      "Ignored: missing parent of G734*: Miopatia en enfermedades infecciosas y parasitarias clasificadas en otra parte => G73*\n",
      "Ignored: missing parent of G735*: Miopatia en enfermedades endocrinas => G73*\n",
      "Ignored: missing parent of G736*: Miopatia en enfermedades metabolicas => G73*\n",
      "Ignored: missing parent of G737*: Miopatia en otras enfermedades clasificadas en otra parte => G73*\n",
      "Ignored: missing parent of O93: Muerte materna de causa basica especificada en otro capitulo relacionada con el embarazo => O93\n",
      "Missing 3239 4d codes\n"
     ]
    }
   ],
   "source": [
    "# Add codes from deis which don't exist in crawled db\n",
    "# and report ignored ones\n",
    "import sys\n",
    "from tqdm.auto import tqdm\n",
    "def remove_last_char_crap(string):\n",
    "    crap = ['†', '*']\n",
    "    if string[-1] in crap:\n",
    "        return string[:-1]\n",
    "    else:\n",
    "        return string\n",
    "    \n",
    "codesm = codes\n",
    "\n",
    "print('Checking 3d codes:')\n",
    "for index, row in deis_codes_3.iterrows():\n",
    "    if not remove_last_char_crap(row.code) in codes.index:\n",
    "        print('Ignored: missing {}: {}'.format(row.code, row.description))\n",
    "\n",
    "print('Checking 4d codes:')\n",
    "missing4c = 0\n",
    "for index, row in tqdm(deis_codes_4.iterrows(), unit='codes', total=12423):\n",
    "    if not remove_last_char_crap(row.code) in codes.index:\n",
    "        missing4c += 1\n",
    "        if not row.parent_code in codes.index:\n",
    "            print('Ignored: missing parent of {}: {} => {}'.format(row.code,\n",
    "                                                              row.description,\n",
    "                                                              row.parent_code))\n",
    "        else:\n",
    "            new_row = pd.Series(name=remove_last_char_crap(row.code))\n",
    "            #new_row['code'] = remove_last_char_crap(row.code)\n",
    "            new_row['level'] = codes.loc[row.parent_code].level + 1\n",
    "            # Grandfather and beyond\n",
    "            for p_level in range(0, new_row['level'] - 1):\n",
    "                tmp_key = 'code_{}'.format(p_level)\n",
    "                new_row[tmp_key] = codes.loc[row.parent_code][tmp_key]\n",
    "            # Parent\n",
    "            tmp_key = 'code_{}'.format(new_row['level'] - 1)\n",
    "            new_row[tmp_key] = row.parent_code\n",
    "            \n",
    "            new_row['description'] = row.description\n",
    "            new_row['source'] = 'deis.cl'\n",
    "            \n",
    "            codesm = codesm.append(new_row, sort=False)\n",
    "            #new_row['parent'] = codes.loc[row.parent_code]\n",
    "            #print(new_row)\n",
    "            #sys.exit()\n",
    "            \n",
    "print('Missing {} 4d codes'.format(missing4c))"
   ]
  },
  {
   "cell_type": "code",
   "execution_count": 10,
   "metadata": {},
   "outputs": [
    {
     "data": {
      "text/plain": [
       "icdcode.info    11268\n",
       "deis.cl          3230\n",
       "Name: source, dtype: int64"
      ]
     },
     "execution_count": 10,
     "metadata": {},
     "output_type": "execute_result"
    }
   ],
   "source": [
    "# Check the merge\n",
    "codesm.source.value_counts()"
   ]
  },
  {
   "cell_type": "code",
   "execution_count": 12,
   "metadata": {},
   "outputs": [],
   "source": [
    "codesm.reset_index().to_csv('cie-10.csv', index=False)"
   ]
  },
  {
   "cell_type": "code",
   "execution_count": null,
   "metadata": {},
   "outputs": [],
   "source": []
  }
 ],
 "metadata": {
  "jupytext": {},
  "kernelspec": {
   "display_name": "Python 3",
   "language": "python",
   "name": "python3"
  },
  "language_info": {
   "codemirror_mode": {
    "name": "ipython",
    "version": 3
   },
   "file_extension": ".py",
   "mimetype": "text/x-python",
   "name": "python",
   "nbconvert_exporter": "python",
   "pygments_lexer": "ipython3",
   "version": "3.6.6"
  }
 },
 "nbformat": 4,
 "nbformat_minor": 2
}
